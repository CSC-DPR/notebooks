{
 "cells": [
  {
   "cell_type": "markdown",
   "id": "f23cac64",
   "metadata": {},
   "source": [
    "# EOPF S2 MSI L1 A/B Products Data Structure Proposal\n"
   ]
  },
  {
   "cell_type": "code",
   "execution_count": 4,
   "id": "35472091",
   "metadata": {},
   "outputs": [],
   "source": [
    "from EOProductDataStructure import EOProductBuilder, EOVariableBuilder, EOGroupBuilder\n",
    "import yaml"
   ]
  },
  {
   "cell_type": "markdown",
   "id": "cc33428d",
   "metadata": {},
   "source": [
    "# Display function"
   ]
  },
  {
   "cell_type": "code",
   "execution_count": 5,
   "id": "9cffd985",
   "metadata": {},
   "outputs": [],
   "source": [
    "def set_variables(yaml_group, eopf_group):\n",
    "    variables = yaml_group['variables']\n",
    "    for var in variables:\n",
    "        variable = EOVariableBuilder(var, default_attrs=True)\n",
    "    \n",
    "        try:\n",
    "            variable.dtype = variables[var].split('->')[1]\n",
    "        except:\n",
    "            variable.dtype = \"string\"\n",
    "            pass\n",
    "        variable.dims = [d.split('->')[0] for d in variables[var].replace(' ','').replace('F(','').replace(')','').split(',')]\n",
    "        eopf_group.variables.append(variable)\n",
    "        for d in variable.dims:\n",
    "            if d not in eopf_group.dims:\n",
    "                eopf_group.dims.append(d)"
   ]
  },
  {
   "cell_type": "markdown",
   "id": "ff0194d1",
   "metadata": {},
   "source": [
    "# 1. Read S1 MSI Product"
   ]
  },
  {
   "cell_type": "code",
   "execution_count": 6,
   "id": "fa8c3101",
   "metadata": {},
   "outputs": [
    {
     "data": {
      "text/html": [
       "\n",
       "        <iframe\n",
       "            width=\"300\"\n",
       "            height=\"450\"\n",
       "            src=\"tmp.html\"\n",
       "            frameborder=\"0\"\n",
       "            allowfullscreen\n",
       "            \n",
       "        ></iframe>\n",
       "        "
      ],
      "text/plain": [
       "<IPython.lib.display.IFrame at 0x7f15d8fede50>"
      ]
     },
     "execution_count": 6,
     "metadata": {},
     "output_type": "execute_result"
    }
   ],
   "source": [
    "path_product=\"data/s2_msi_l1ab.yaml\"\n",
    "\n",
    "product = None\n",
    "\n",
    "with open(path_product, \"r\") as stream:\n",
    "    try:\n",
    "        product = yaml.safe_load(stream)['product']\n",
    "    except yaml.YAMLError as exc:\n",
    "        print(exc)\n",
    "        \n",
    "s2_msi = EOProductBuilder(\"S2_MSI_L1AB__\", coords=EOGroupBuilder('coords'))\n",
    "\n",
    "for key, values in product.items():\n",
    "    \n",
    "    if key == \"attributes\":\n",
    "        s2_msi.attrs = values        \n",
    "    else:\n",
    "        group = EOGroupBuilder(key)\n",
    "        if \"groups\" in values:\n",
    "            groups = values['groups']\n",
    "            for ygp in groups:\n",
    "                eopf_group = EOGroupBuilder(ygp)\n",
    "                set_variables(values['groups'][ygp], eopf_group)\n",
    "                group.groups.append(eopf_group)\n",
    "        else:\n",
    "            set_variables(values,group)\n",
    "            \n",
    "        s2_msi.groups.append(group)\n",
    "        \n",
    "s2_msi.compute()   "
   ]
  },
  {
   "cell_type": "code",
   "execution_count": null,
   "id": "b152b41f",
   "metadata": {},
   "outputs": [],
   "source": []
  }
 ],
 "metadata": {
  "celltoolbar": "Tags",
  "kernelspec": {
   "display_name": "Python 3 (ipykernel)",
   "language": "python",
   "name": "python3"
  },
  "language_info": {
   "codemirror_mode": {
    "name": "ipython",
    "version": 3
   },
   "file_extension": ".py",
   "mimetype": "text/x-python",
   "name": "python",
   "nbconvert_exporter": "python",
   "pygments_lexer": "ipython3",
   "version": "3.9.9"
  }
 },
 "nbformat": 4,
 "nbformat_minor": 5
}
