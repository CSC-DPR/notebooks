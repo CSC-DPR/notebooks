{
 "cells": [
  {
   "cell_type": "markdown",
   "id": "a0c9fff8",
   "metadata": {},
   "source": [
    "# EOPF Product Data Structure samples\n",
    "This is a simple tutorial to show you how to build a Generic Product Data Structure and display it using our template <br>\n",
    "Do not hesitate to modify/update the code and do new suggestions\n"
   ]
  },
  {
   "cell_type": "code",
   "execution_count": 12,
   "id": "f9eed6e4",
   "metadata": {},
   "outputs": [],
   "source": [
    "import xarray as xr\n",
    "import glob\n",
    "from utils import display, get_ds_variables as get_ds\n",
    "\n",
    "from EOProductDataStructure import EOProductBuilder, EOVariableBuilder, EOGroupBuilder"
   ]
  },
  {
   "cell_type": "markdown",
   "id": "5283e42f",
   "metadata": {},
   "source": [
    "# Let's start building a new Product Data Structure\n",
    "# 1. Create an instance of EOProduct"
   ]
  },
  {
   "cell_type": "code",
   "execution_count": 13,
   "id": "893259ab",
   "metadata": {},
   "outputs": [
    {
     "data": {
      "text/html": [
       "\n",
       "        <iframe\n",
       "            width=\"300\"\n",
       "            height=\"450\"\n",
       "            src=\"tmp.html\"\n",
       "            frameborder=\"0\"\n",
       "            allowfullscreen\n",
       "            \n",
       "        ></iframe>\n",
       "        "
      ],
      "text/plain": [
       "<IPython.lib.display.IFrame at 0x7f4e00333550>"
      ]
     },
     "execution_count": 13,
     "metadata": {},
     "output_type": "execute_result"
    }
   ],
   "source": [
    "\n",
    "# Adding global attributes\n",
    "global_attributes = [\n",
    "    \"product_name\",\n",
    "    \"creation_time\",\n",
    "    \"start_time\",\n",
    "    \"stop_time\",\n",
    "    \"footprint\",\n",
    "    \"absolute_orbit_number\",\n",
    "    \"ac_subsampling_factor\",\n",
    "    \"al_subsampling_factor\",\n",
    "    \"comment\",\n",
    "    \"contact\",\n",
    "    \"history\",\n",
    "    \"institution\",\n",
    "    \"references\",\n",
    "    \"resolution\",\n",
    "    \"source\",\n",
    "    \"title\"]\n",
    "\n",
    "attrs = {att: 'TBD' for att in global_attributes}\n",
    "\n",
    "# Create an instance of EOProduct , give it a name\n",
    "p = EOProductBuilder(name=\"S3 OLCI L1 Product Data Structure\", coords=EOGroupBuilder('coords'), attrs=attrs)\n",
    "\n",
    "# display this empty product\n",
    "display(p.compute())"
   ]
  },
  {
   "cell_type": "markdown",
   "id": "4e82b418",
   "metadata": {},
   "source": [
    "# 2. Adding Groups to our Product"
   ]
  },
  {
   "cell_type": "code",
   "execution_count": 14,
   "id": "7da2dcc2",
   "metadata": {},
   "outputs": [
    {
     "data": {
      "text/html": [
       "\n",
       "        <iframe\n",
       "            width=\"300\"\n",
       "            height=\"450\"\n",
       "            src=\"tmp.html\"\n",
       "            frameborder=\"0\"\n",
       "            allowfullscreen\n",
       "            \n",
       "        ></iframe>\n",
       "        "
      ],
      "text/plain": [
       "<IPython.lib.display.IFrame at 0x7f4e443f4400>"
      ]
     },
     "execution_count": 14,
     "metadata": {},
     "output_type": "execute_result"
    }
   ],
   "source": [
    "# adding groups to our product\n",
    "radiances = EOGroupBuilder(\"radiances\", coords=EOGroupBuilder('coordinates'))\n",
    "tie_points = EOGroupBuilder(\"tie_points\")\n",
    "removed_pixels = EOGroupBuilder(\"removed_pixels\")\n",
    "instrument_data = EOGroupBuilder(\"instrument_data\")\n",
    "\n",
    "#p.groups.append(radiances)\n",
    "#p.groups.append(tie_points)\n",
    "p.groups += [radiances,tie_points,removed_pixels,instrument_data]\n",
    "\n",
    "# again display the product\n",
    "display(p.compute())"
   ]
  },
  {
   "cell_type": "markdown",
   "id": "04b2c3d8",
   "metadata": {},
   "source": [
    "# 3. Adding Dimensions/Coordinates and Variables to Groups"
   ]
  },
  {
   "cell_type": "code",
   "execution_count": 15,
   "id": "84c65353",
   "metadata": {},
   "outputs": [
    {
     "data": {
      "text/html": [
       "\n",
       "        <iframe\n",
       "            width=\"300\"\n",
       "            height=\"450\"\n",
       "            src=\"tmp.html\"\n",
       "            frameborder=\"0\"\n",
       "            allowfullscreen\n",
       "            \n",
       "        ></iframe>\n",
       "        "
      ],
      "text/plain": [
       "<IPython.lib.display.IFrame at 0x7f4e003d0880>"
      ]
     },
     "execution_count": 15,
     "metadata": {},
     "output_type": "execute_result"
    }
   ],
   "source": [
    "# adding attributes to radiances group\n",
    "radiances.attrs['description'] = 'Radiances Data Group'\n",
    "# adding dimensions\n",
    "radiances.dims = ['rows','columns']\n",
    "# ======================= Coordinates =======================\n",
    "\n",
    "for name in [\"latitude\",\"longitude\",\"altitude\",\"time_stamp\"]:\n",
    "    coord = EOVariableBuilder(name, default_attrs=True) # set default_attrs to False to disable default attributes\n",
    "    coord.dtype = \"int32\"\n",
    "    coord.dims = radiances.dims\n",
    "    radiances.coords.variables.append(coord)\n",
    "\n",
    "# ======================= Variables =======================\n",
    "for r in range(21):\n",
    "    variable = EOVariableBuilder(\"Oa%02d_radiance\" % (r+1), default_attrs = True)\n",
    "    variable.dtype = \"uint16\"\n",
    "    variable.dims = radiances.dims\n",
    "    radiances.variables.append(variable)\n",
    "    \n",
    "display(p.compute())"
   ]
  },
  {
   "cell_type": "markdown",
   "id": "fca14daf",
   "metadata": {},
   "source": [
    "# 4. Adding Metadata "
   ]
  },
  {
   "cell_type": "code",
   "execution_count": 16,
   "id": "e422bfad",
   "metadata": {},
   "outputs": [
    {
     "data": {
      "text/html": [
       "\n",
       "        <iframe\n",
       "            width=\"300\"\n",
       "            height=\"450\"\n",
       "            src=\"tmp.html\"\n",
       "            frameborder=\"0\"\n",
       "            allowfullscreen\n",
       "            \n",
       "        ></iframe>\n",
       "        "
      ],
      "text/plain": [
       "<IPython.lib.display.IFrame at 0x7f4e00382a30>"
      ]
     },
     "execution_count": 16,
     "metadata": {},
     "output_type": "execute_result"
    }
   ],
   "source": [
    "p.metadatas = ['xdfumanifest.json','metadata.file']\n",
    "display(p.compute())"
   ]
  },
  {
   "cell_type": "markdown",
   "id": "e80038b9",
   "metadata": {},
   "source": [
    "# 5. Example of S3 product conversion "
   ]
  },
  {
   "cell_type": "code",
   "execution_count": 17,
   "id": "47a15479",
   "metadata": {},
   "outputs": [
    {
     "data": {
      "text/plain": [
       "'data/S3A_OL_1_EFR____20200101T101517_20200101T101817_20200102T141102_0179_053_179_2520_LN1_O_NT_002.SEN3'"
      ]
     },
     "execution_count": 17,
     "metadata": {},
     "output_type": "execute_result"
    }
   ],
   "source": [
    "# Path ot S3 product\n",
    "path_to_product = glob.glob(\"data/S3A_OL_1*.SEN3\")[0]\n",
    "path_to_product"
   ]
  },
  {
   "cell_type": "markdown",
   "id": "19007f2d",
   "metadata": {},
   "source": [
    "# 5.1 Define a new Data Structure"
   ]
  },
  {
   "cell_type": "code",
   "execution_count": 18,
   "id": "1f88b37d",
   "metadata": {},
   "outputs": [],
   "source": [
    "# Groups definition\n",
    "groups = {}\n",
    "groups['radiances'] = get_ds(path_to_product, names=[\"Oa%02d_radiance\" %r for r in range(21)] + [\"time_coordinates\",\"geo_coordinates\"], process_coords=True)\n",
    "groups['tie_points'] = get_ds(path_to_product, names=[\"tie_geo_coordinates\",\"tie_meteo\",\"tie_geometries\"], process_coords=True)\n",
    "groups['removed_pixels'] = get_ds(path_to_product, names=[\"removed_pixels\"], process_coords=True)\n",
    "groups['instrument_data'] = get_ds(path_to_product, names=[\"instrument_data\"], process_coords=True)\n",
    "groups['quality_flags'] = get_ds(path_to_product, names=[\"qualityFlags\"], process_coords=True)\n",
    "\n",
    "\n",
    "# Create a new EOProduct instance\n",
    "product = EOProductBuilder(\"S3 OLCI L1 Product Data Structure\", coords=EOGroupBuilder('coords'))\n",
    "# do the same work as before \n",
    "product.metadatas = [\"xfdumanifest.json\"]\n",
    "\n",
    "# global attributes\n",
    "#get them from a netcdf file \n",
    "ds = xr.open_dataset(path_to_product + \"/Oa01_radiance.nc\",decode_times=False,mask_and_scale=False)\n",
    "product.attrs.update(ds.attrs)\n",
    "# ==================== Product groups setting ========================\n",
    "\n",
    "for group_name, ds in groups.items():\n",
    "    ds = groups[group_name]\n",
    "    group = EOGroupBuilder(group_name, coords=EOGroupBuilder('coordinates'))\n",
    "    group.attrs[\"description\"] = f\"{group_name} Data Group\"\n",
    "    group.dims = ds.dims\n",
    "\n",
    "    for cname, cood in ds.coords.items():\n",
    "\n",
    "        variable = EOVariableBuilder(\n",
    "            cname, dtype=cood.dtype, dims=cood.dims, attrs=cood.attrs, default_attrs = False,\n",
    "        )\n",
    "        group.coords.variables.append(variable)\n",
    "\n",
    "\n",
    "    for v, var in ds.variables.items():\n",
    "        if v not in [\"latitude\",\"longitude\",\"altitude\",\"time_stamp\"]:\n",
    "            variable = EOVariableBuilder(\n",
    "                v, dtype=var.dtype, dims=var.dims, attrs=var.attrs, default_attrs = False\n",
    "            )\n",
    "            group.variables.append(variable)\n",
    "\n",
    "    product.groups.append(group)"
   ]
  },
  {
   "cell_type": "code",
   "execution_count": 19,
   "id": "ec035a6f",
   "metadata": {},
   "outputs": [
    {
     "data": {
      "text/html": [
       "\n",
       "        <iframe\n",
       "            width=\"300\"\n",
       "            height=\"450\"\n",
       "            src=\"tmp.html\"\n",
       "            frameborder=\"0\"\n",
       "            allowfullscreen\n",
       "            \n",
       "        ></iframe>\n",
       "        "
      ],
      "text/plain": [
       "<IPython.lib.display.IFrame at 0x7f4e0031abe0>"
      ]
     },
     "execution_count": 19,
     "metadata": {},
     "output_type": "execute_result"
    }
   ],
   "source": [
    "display(product.compute())\n"
   ]
  },
  {
   "cell_type": "markdown",
   "id": "6d1d7f59",
   "metadata": {},
   "source": [
    "# New Proposal : Put all the coordinates in the same group => Coordinates"
   ]
  },
  {
   "cell_type": "code",
   "execution_count": 20,
   "id": "62ae399e",
   "metadata": {},
   "outputs": [],
   "source": [
    "\n",
    "p = product\n",
    "\n",
    "rads = p.groups[0]\n",
    "tps = p.groups[1]\n",
    "\n",
    "#Create a dedicated coordiante group , call it Coordinates\n",
    "coordinates = EOGroupBuilder(\"Coordinates\")\n",
    "\n",
    "coordinates.variables = rads.coords.variables\n",
    "\n",
    "for c in rads.coords.variables:\n",
    "    for d in c.dims:\n",
    "        if d not in coordinates.dims:\n",
    "            coordinates.dims.append(d)\n",
    "            \n",
    "for c in tps.coords.variables:\n",
    "    c.name = f'tie_{c.name}'\n",
    "    for d in c.dims:\n",
    "        if d not in coordinates.dims:\n",
    "            coordinates.dims.append(d)\n",
    "            \n",
    "coordinates.variables += tps.coords.variables\n",
    "\n",
    "rads.coords = None\n",
    "tps.coords = None\n",
    "    \n",
    "p.coords = coordinates\n",
    "p.attrs['metadata_files'] = '[xfdumanfist.json]'\n"
   ]
  },
  {
   "cell_type": "code",
   "execution_count": 21,
   "id": "880ef41b",
   "metadata": {},
   "outputs": [
    {
     "data": {
      "text/html": [
       "\n",
       "        <iframe\n",
       "            width=\"300\"\n",
       "            height=\"450\"\n",
       "            src=\"tmp.html\"\n",
       "            frameborder=\"0\"\n",
       "            allowfullscreen\n",
       "            \n",
       "        ></iframe>\n",
       "        "
      ],
      "text/plain": [
       "<IPython.lib.display.IFrame at 0x7f4e443fbe50>"
      ]
     },
     "execution_count": 21,
     "metadata": {},
     "output_type": "execute_result"
    }
   ],
   "source": [
    "display(p.compute())"
   ]
  },
  {
   "cell_type": "code",
   "execution_count": null,
   "id": "8e8b1cc9",
   "metadata": {},
   "outputs": [],
   "source": []
  }
 ],
 "metadata": {
  "celltoolbar": "Tags",
  "kernelspec": {
   "display_name": "Python 3 (ipykernel)",
   "language": "python",
   "name": "python3"
  },
  "language_info": {
   "codemirror_mode": {
    "name": "ipython",
    "version": 3
   },
   "file_extension": ".py",
   "mimetype": "text/x-python",
   "name": "python",
   "nbconvert_exporter": "python",
   "pygments_lexer": "ipython3",
   "version": "3.9.9"
  }
 },
 "nbformat": 4,
 "nbformat_minor": 5
}
