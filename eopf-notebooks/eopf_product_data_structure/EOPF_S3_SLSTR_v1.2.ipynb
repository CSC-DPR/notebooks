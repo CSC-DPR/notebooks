{
 "cells": [
  {
   "cell_type": "markdown",
   "id": "38abfdd3",
   "metadata": {},
   "source": [
    "# EOPF S3 OLCI L1 Product Data Structure Proposal\n"
   ]
  },
  {
   "cell_type": "code",
   "execution_count": 1,
   "id": "68a42b17",
   "metadata": {},
   "outputs": [],
   "source": [
    "import os\n",
    "import xarray as xr\n",
    "import glob\n",
    "from utils import get_ds_variables as get_ds\n",
    "from EOProductDataStructure import EOProductBuilder, EOVariableBuilder, EOGroupBuilder"
   ]
  },
  {
   "cell_type": "code",
   "execution_count": 2,
   "id": "d96adef0",
   "metadata": {},
   "outputs": [
    {
     "name": "stderr",
     "output_type": "stream",
     "text": [
      "<>:18: SyntaxWarning: 'int' object is not subscriptable; perhaps you missed a comma?\n",
      "<>:18: SyntaxWarning: 'int' object is not subscriptable; perhaps you missed a comma?\n"
     ]
    },
    {
     "ename": "IndexError",
     "evalue": "list index out of range",
     "output_type": "error",
     "traceback": [
      "\u001b[0;31m---------------------------------------------------------------------------\u001b[0m",
      "\u001b[0;31mIndexError\u001b[0m                                Traceback (most recent call last)",
      "\u001b[0;32m/tmp/ipykernel_24167/4211705679.py\u001b[0m in \u001b[0;36m<module>\u001b[0;34m\u001b[0m\n\u001b[0;32m----> 1\u001b[0;31m \u001b[0mpath_to_product\u001b[0m \u001b[0;34m=\u001b[0m \u001b[0mglob\u001b[0m\u001b[0;34m.\u001b[0m\u001b[0mglob\u001b[0m\u001b[0;34m(\u001b[0m\u001b[0;34m\"data/S3A_SL_1_RBT*.SEN3\"\u001b[0m\u001b[0;34m)\u001b[0m\u001b[0;34m[\u001b[0m\u001b[0;36m0\u001b[0m\u001b[0;34m]\u001b[0m\u001b[0;34m\u001b[0m\u001b[0;34m\u001b[0m\u001b[0m\n\u001b[0m\u001b[1;32m      2\u001b[0m \u001b[0;34m\u001b[0m\u001b[0m\n\u001b[1;32m      3\u001b[0m \u001b[0;31m# Groups definition\u001b[0m\u001b[0;34m\u001b[0m\u001b[0;34m\u001b[0m\u001b[0m\n\u001b[1;32m      4\u001b[0m \u001b[0mgroups\u001b[0m \u001b[0;34m=\u001b[0m \u001b[0;34m{\u001b[0m\u001b[0;34m}\u001b[0m\u001b[0;34m\u001b[0m\u001b[0;34m\u001b[0m\u001b[0m\n\u001b[1;32m      5\u001b[0m \u001b[0;32mfor\u001b[0m \u001b[0mg\u001b[0m \u001b[0;32min\u001b[0m \u001b[0;34m[\u001b[0m\u001b[0;34m'an'\u001b[0m\u001b[0;34m,\u001b[0m\u001b[0;34m'ao'\u001b[0m\u001b[0;34m,\u001b[0m\u001b[0;34m'bn'\u001b[0m\u001b[0;34m,\u001b[0m\u001b[0;34m'bo'\u001b[0m\u001b[0;34m,\u001b[0m\u001b[0;34m'in'\u001b[0m\u001b[0;34m,\u001b[0m\u001b[0;34m'io'\u001b[0m\u001b[0;34m,\u001b[0m\u001b[0;34m'fn'\u001b[0m\u001b[0;34m,\u001b[0m\u001b[0;34m'fo'\u001b[0m\u001b[0;34m]\u001b[0m\u001b[0;34m:\u001b[0m\u001b[0;34m\u001b[0m\u001b[0;34m\u001b[0m\u001b[0m\n",
      "\u001b[0;31mIndexError\u001b[0m: list index out of range"
     ]
    }
   ],
   "source": [
    "path_to_product = glob.glob(\"data/S3A_SL_1_RBT*.SEN3\")[0]\n",
    "\n",
    "# Groups definition\n",
    "groups = {}\n",
    "for g in ['an','ao','bn','bo','in','io','fn','fo']:\n",
    "    groups['coordinates_%s' % g] = get_ds(path_to_product, names=[\"geodetic_%s\" % g, \"cartesian_%s\" % g])\n",
    "groups['tiepoints'] = get_ds(path_to_product, names=[\"geodetic_tx\", \"cartesian_tx\"])\n",
    "\n",
    "for g in ['an','ao']:\n",
    "    groups['measurements_%s' % g] = get_ds(path_to_product, names=[\"%s_radiance_%s\" % (r,g) for r in [\"S1\",\"S2\",\"S3\",\"S4\",\"S5\",\"S6\"]]+[\"flags_%s\" % g])\n",
    "for g in ['bn','bo']:\n",
    "    groups['measurements_%s' % g] = get_ds(path_to_product, names=[\"%s_radiance_%s\" % (r,g) for r in [\"S4\",\"S5\",\"S6\"]]+[\"flags_%s\" % g])\n",
    "for g in ['in','io']:\n",
    "    groups['measurements_%s' % g] = get_ds(path_to_product, names=[\"%s_BT_%s\" % (r,g) for r in [\"S7\",\"S8\",\"S9\",\"F2\"]]+[\"flags_%s\" % g])\n",
    "for g in ['fn','fo']:\n",
    "    groups['measurements_%s' % g] = get_ds(path_to_product, names=[\"%s_BT_%s\" % (r,g) for r in [\"F1\"]]+[\"flags_%s\" % g])\n",
    "\n",
    "groups['meteo'] = get_ds(path_to_product, names=0[\"met_tx\"])\n",
    "for g in ['tn','to']:\n",
    "    groups['geometry_%s' % g] = get_ds(path_to_product, names=[\"geometry_%s\" % g])\n",
    "for g in ['an','bn','in']:\n",
    "    groups['time_%s' % g] = get_ds(path_to_product, names=[\"time_%s\" % g])\n",
    "\n",
    "for v in [\"S1\",\"S2\",\"S3\",\"S4\",\"S5\",\"S6\",\"S7\",\"S8\",\"S9\",\"F2\",\"F1\"]:\n",
    "    groups[\"%s_quality\" % v] = get_ds(path_to_product, names=[\"%s_quality_%s\" % (v,r) for r in ['an','ao','bn','bo','in','io','fn','fo']])\n",
    "for g in ['an','ao','bn','bo','in','io','fn','fo']:\n",
    "    groups['instrument_%s' % g] = get_ds(path_to_product, names=[\"indices_%s\" % g])\n",
    "for g in ['an','ao']:\n",
    "    groups['orphan_%s' % g] = get_ds(path_to_product, names=[\"%s_radiance_%s\" % (r,g) for r in [\"S1\",\"S2\",\"S3\",\"S4\",\"S5\",\"S6\"]]+[\"%s_quality_%s\" % (r,g) for r in [\"S1\",\"S2\",\"S3\",\"S4\",\"S5\",\"S6\"]]+[\"flags_%s\" % g], orphan=True)\n",
    "for g in ['bn','bo']:\n",
    "    groups['orphan_%s' % g] = get_ds(path_to_product, names=[\"%s_radiance_%s\" % (r,g) for r in [\"S4\",\"S5\",\"S6\"]]+[\"%s_quality_%s\" % (r,g) for r in [\"S4\",\"S5\",\"S6\"]]+[\"flags_%s\" % g], orphan=True)\n",
    "for g in ['in','io']:\n",
    "    groups['orphan_%s' % g] = get_ds(path_to_product, names=[\"%s_BT_%s\" % (r,g) for r in [\"S7\",\"S8\",\"S9\",\"F2\"]]+[\"%s_quality_%s\" % (r,g) for r in [\"S7\",\"S8\",\"S9\",\"F2\"]]+[\"flags_%s\" % g], orphan=True)\n",
    "for g in ['fn','fo']:\n",
    "    groups['orphan_%s' % g] = get_ds(path_to_product, names=[\"%s_BT_%s\" % (r,g) for r in [\"F1\"]]+[\"%s_quality_%s\" % (r,g) for r in [\"F1\"]]+[\"flags_%s\" % g], orphan=True)\n",
    "\n",
    "# Create a new EOProduct instance\n",
    "product_name = os.path.basename(\"S3_SLSTR_L1\")\n",
    "product = EOProductBuilder(\"S3_SLSTR_L1\", coords=EOGroupBuilder('coords'))\n",
    "# do the same work as before \n",
    "product.metadatas = [\"xfdumanifest.xml\"]\n",
    "\n",
    "# global attributes\n",
    "#get them from a netcdf file \n",
    "ds = xr.open_dataset(path_to_product + \"/S1_radiance_an.nc\",decode_times=False,mask_and_scale=False)\n",
    "product.attrs = {att: f'{value[:50]} ...' if isinstance(value, str) else value for att, value in ds.attrs.items()}\n",
    "    \n",
    "# ==================== Product groups setting ========================\n",
    "\n",
    "for group_name, ds in groups.items():\n",
    "    group = EOGroupBuilder(group_name)\n",
    "    group.attrs['description'] = f'{group_name} Data Group'\n",
    "    group.dims = ds.dims\n",
    "\n",
    "    for v in ds.variables:\n",
    "        variable = EOVariableBuilder(v, default_attrs = False)\n",
    "        var = ds.get(v)\n",
    "        variable.dtype = var.dtype\n",
    "        variable.dims = var.dims\n",
    "        variable.attrs = var.attrs\n",
    "\n",
    "        group.variables.append(variable)\n",
    "\n",
    "    product.groups.append(group)\n",
    "\n",
    "product.attrs['metadata_files'] = '[xfdumanfist.xml]'"
   ]
  },
  {
   "cell_type": "code",
   "execution_count": null,
   "id": "dd9be474",
   "metadata": {},
   "outputs": [],
   "source": [
    "product.compute()"
   ]
  },
  {
   "cell_type": "code",
   "execution_count": null,
   "id": "5fcfef6e",
   "metadata": {},
   "outputs": [],
   "source": []
  }
 ],
 "metadata": {
  "celltoolbar": "Tags",
  "kernelspec": {
   "display_name": "Python 3 (ipykernel)",
   "language": "python",
   "name": "python3"
  },
  "language_info": {
   "codemirror_mode": {
    "name": "ipython",
    "version": 3
   },
   "file_extension": ".py",
   "mimetype": "text/x-python",
   "name": "python",
   "nbconvert_exporter": "python",
   "pygments_lexer": "ipython3",
   "version": "3.9.9"
  }
 },
 "nbformat": 4,
 "nbformat_minor": 5
}
