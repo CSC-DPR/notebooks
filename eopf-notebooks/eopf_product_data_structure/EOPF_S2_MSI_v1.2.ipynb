{
 "cells": [
  {
   "cell_type": "markdown",
   "id": "38abfdd3",
   "metadata": {},
   "source": [
    "# EOPF S3 OLCI L1 Product Data Structure Proposal\n"
   ]
  },
  {
   "cell_type": "code",
   "execution_count": 4,
   "id": "68a42b17",
   "metadata": {},
   "outputs": [
    {
     "ename": "ModuleNotFoundError",
     "evalue": "No module named 'rasterio'",
     "output_type": "error",
     "traceback": [
      "\u001b[0;31m---------------------------------------------------------------------------\u001b[0m",
      "\u001b[0;31mModuleNotFoundError\u001b[0m                       Traceback (most recent call last)",
      "\u001b[0;32m/tmp/ipykernel_23824/708209755.py\u001b[0m in \u001b[0;36m<module>\u001b[0;34m\u001b[0m\n\u001b[1;32m      2\u001b[0m \u001b[0;32mimport\u001b[0m \u001b[0mxarray\u001b[0m \u001b[0;32mas\u001b[0m \u001b[0mxr\u001b[0m\u001b[0;34m\u001b[0m\u001b[0;34m\u001b[0m\u001b[0m\n\u001b[1;32m      3\u001b[0m \u001b[0;32mimport\u001b[0m \u001b[0mglob\u001b[0m\u001b[0;34m\u001b[0m\u001b[0;34m\u001b[0m\u001b[0m\n\u001b[0;32m----> 4\u001b[0;31m \u001b[0;32mimport\u001b[0m \u001b[0mrasterio\u001b[0m\u001b[0;34m\u001b[0m\u001b[0;34m\u001b[0m\u001b[0m\n\u001b[0m\u001b[1;32m      5\u001b[0m \u001b[0;32mfrom\u001b[0m \u001b[0mIPython\u001b[0m\u001b[0;34m.\u001b[0m\u001b[0mcore\u001b[0m\u001b[0;34m.\u001b[0m\u001b[0mdisplay\u001b[0m \u001b[0;32mimport\u001b[0m \u001b[0mHTML\u001b[0m\u001b[0;34m\u001b[0m\u001b[0;34m\u001b[0m\u001b[0m\n\u001b[1;32m      6\u001b[0m \u001b[0;32mimport\u001b[0m \u001b[0mglob\u001b[0m\u001b[0;34m\u001b[0m\u001b[0;34m\u001b[0m\u001b[0m\n",
      "\u001b[0;31mModuleNotFoundError\u001b[0m: No module named 'rasterio'"
     ]
    }
   ],
   "source": [
    "import os\n",
    "import xarray as xr\n",
    "import glob\n",
    "import re\n",
    "from EOProductDataStructure import EOProductBuilder, EOVariableBuilder, EOGroupBuilder\n",
    "from lxml import etree"
   ]
  },
  {
   "cell_type": "code",
   "execution_count": 5,
   "id": "f29152fa",
   "metadata": {},
   "outputs": [],
   "source": [
    "variable_chunks = { 'B01': 192, \n",
    "                    'B02': 1024, 'B03': 1024, 'B04': 1024, \n",
    "                    'B05': 640, 'B06': 640, 'B07': 640, 'B08': 640, 'B8A': 640, \n",
    "                    'B09': 192, 'B10': 192, \n",
    "                    'B11': 640, 'B12': 640, \n",
    "                    'TCI': 256 }\n",
    "\n",
    "def get_jp2_ds(path_to_product, glob_patterns, var_pattern, resolution):\n",
    "    variables = {}\n",
    "    coordinates = {}\n",
    "    attributes = {}\n",
    "    for glob_pattern in glob_patterns:\n",
    "        files = glob.glob(path_to_product + '/' + glob_pattern)\n",
    "        for file in files:\n",
    "            var = re.match(var_pattern, file[file.rfind('/')+1:]).group(1)\n",
    "            chunks = variable_chunks[var]\n",
    "            ds1 = xr.open_dataset(file, chunks=chunks, engine='rasterio', mask_and_scale=False)\n",
    "            if var == 'TCI':\n",
    "                variables['red'] = ds1.get('band_data')[0].drop('band')\n",
    "                variables['green'] = ds1.get('band_data')[1].drop('band')\n",
    "                variables['blue'] = ds1.get('band_data')[2].drop('band')\n",
    "            else:\n",
    "                variables[var] = ds1.get('band_data')[0].drop('band')\n",
    "            for attr in ds1.attrs:\n",
    "                if attr not in attributes:\n",
    "                    attributes[attr] = ds1.attrs[attr]\n",
    "    ds = xr.Dataset(data_vars=variables, coords=coordinates, attrs=attributes).rename({'x': 'x_'+resolution, 'y': 'y_'+resolution}).drop(['spatial_ref', 'x_'+resolution, 'y_'+resolution])\n",
    "    return ds\n",
    "\n",
    "def get_coord_ds(path_to_product, glob_patterns, resolutions):\n",
    "    variables = {}\n",
    "    coordinates = {}\n",
    "    attributes = {}\n",
    "    for glob_pattern, resolution in zip(glob_patterns, resolutions):\n",
    "        files = glob.glob(path_to_product + '/' + glob_pattern)\n",
    "        for file in files:\n",
    "            ds1 = xr.open_dataset(file, engine='rasterio', mask_and_scale=False).rename({'x': 'x_'+resolution, 'y': 'y_'+resolution}) \n",
    "            variables['x_' + resolution] = ds1['x_' + resolution]\n",
    "            variables['y_' + resolution] = ds1['y_' + resolution]\n",
    "            if 'spatial_ref' in ds1 and 'spatial_ref' not in variables:\n",
    "                variables['spatial_ref'] = ds1['spatial_ref']\n",
    "            for attr in ds1.attrs:\n",
    "                if attr not in attributes:\n",
    "                    attributes[attr] = ds1.attrs[attr]\n",
    "    ds = xr.Dataset(data_vars=variables, coords=coordinates, attrs=attributes)\n",
    "    return ds"
   ]
  },
  {
   "cell_type": "code",
   "execution_count": 6,
   "id": "08f4c384-a343-418b-ba99-33d9d9219a40",
   "metadata": {},
   "outputs": [],
   "source": [
    "\n",
    "band_names = ['B01', 'B02', 'B03', 'B04', 'B05', 'B06', 'B07', 'B08', 'B8A', 'B09', 'B10', 'B11', 'B12']\n",
    "\n",
    "def get_values(dom, xpath):\n",
    "    list = dom.xpath(xpath, namespaces={'n1': 'https://psd-14.sentinel2.eo.esa.int/PSD/S2_PDI_Level-1C_Tile_Metadata.xsd'})\n",
    "    array = [[float(i) for i in x.text.split()] for x in list]\n",
    "    da = xr.DataArray(array, dims=['y_tiepoints', 'x_tiepoints'])\n",
    "    return da\n",
    "\n",
    "def get_shape(dom, xpath):\n",
    "    list = dom.xpath(xpath, namespaces={'n1': 'https://psd-14.sentinel2.eo.esa.int/PSD/S2_PDI_Level-1C_Tile_Metadata.xsd'})\n",
    "    return [len(list), len(list[0].text.split())]\n",
    "\n",
    "def parse_xml(path_to_product, glob_pattern):\n",
    "    path = glob.glob(path_to_product + '/' + glob_pattern)[0]\n",
    "    dom = etree.parse(path)\n",
    "    return dom\n",
    "\n",
    "def get_angles_ds(path_to_product, glob_pattern):\n",
    "    dom = parse_xml(path_to_product, glob_pattern)\n",
    "    sza = get_values(dom, 'n1:Geometric_Info/Tile_Angles/Sun_Angles_Grid/Zenith/Values_List/VALUES')\n",
    "    saa = get_values(dom, 'n1:Geometric_Info/Tile_Angles/Sun_Angles_Grid/Azimuth/Values_List/VALUES')\n",
    "    bands = {'sza': sza, 'saa': saa}\n",
    "    for band_id in range(13):\n",
    "        for detector_id in range(1,7):\n",
    "            vza = get_values(dom, 'n1:Geometric_Info/Tile_Angles/Viewing_Incidence_Angles_Grids[@bandId=\"{}\" and @detectorId=\"{}\"]/Zenith/Values_List/VALUES'\n",
    "                             .format(band_id, detector_id))\n",
    "            vaa = get_values(dom, 'n1:Geometric_Info/Tile_Angles/Viewing_Incidence_Angles_Grids[@bandId=\"{}\" and @detectorId=\"{}\"]/Azimuth/Values_List/VALUES'\n",
    "                             .format(band_id, detector_id))\n",
    "            bands['vza_{}_{}'.format(band_names[band_id], detector_id)] = vza\n",
    "            bands['vaa_{}_{}'.format(band_names[band_id], detector_id)] = vaa\n",
    "    ds = xr.Dataset(bands)\n",
    "    return ds    \n",
    "\n",
    "def get_tiepoints_ds(path_to_product, glob_pattern):\n",
    "    dom = parse_xml(path_to_product, glob_pattern)\n",
    "    shape_y_x = get_shape(dom, 'n1:Geometric_Info/Tile_Angles/Sun_Angles_Grid/Zenith/Values_List/VALUES')\n",
    "    ymax = float(dom.xpath('n1:Geometric_Info/Tile_Geocoding/Geoposition[@resolution=\"10\"]/ULY',\n",
    "                           namespaces={'n1': 'https://psd-14.sentinel2.eo.esa.int/PSD/S2_PDI_Level-1C_Tile_Metadata.xsd'})[0].text)\n",
    "    xmin = float(dom.xpath('n1:Geometric_Info/Tile_Geocoding/Geoposition[@resolution=\"10\"]/ULX',\n",
    "                           namespaces={'n1': 'https://psd-14.sentinel2.eo.esa.int/PSD/S2_PDI_Level-1C_Tile_Metadata.xsd'})[0].text)\n",
    "    ystep = float(dom.xpath('n1:Geometric_Info/Tile_Angles/Sun_Angles_Grid/Zenith/ROW_STEP', \n",
    "                            namespaces={'n1': 'https://psd-14.sentinel2.eo.esa.int/PSD/S2_PDI_Level-1C_Tile_Metadata.xsd'})[0].text)\n",
    "    xstep = float(dom.xpath('n1:Geometric_Info/Tile_Angles/Sun_Angles_Grid/Zenith/COL_STEP', \n",
    "                            namespaces={'n1': 'https://psd-14.sentinel2.eo.esa.int/PSD/S2_PDI_Level-1C_Tile_Metadata.xsd'})[0].text)\n",
    "    y = [ymax - i * ystep - ystep / 2 for i in range(shape_y_x[0])]\n",
    "    x = [xmin + i * xstep + xstep / 2 for i in range(shape_y_x[1])]\n",
    "    ds = xr.Dataset({'y_tiepoints': y, 'x_tiepoints': x})\n",
    "    return ds\n",
    "    "
   ]
  },
  {
   "cell_type": "code",
   "execution_count": 7,
   "id": "d96adef0",
   "metadata": {},
   "outputs": [
    {
     "ename": "IndexError",
     "evalue": "list index out of range",
     "output_type": "error",
     "traceback": [
      "\u001b[0;31m---------------------------------------------------------------------------\u001b[0m",
      "\u001b[0;31mIndexError\u001b[0m                                Traceback (most recent call last)",
      "\u001b[0;32m/tmp/ipykernel_23824/1706942062.py\u001b[0m in \u001b[0;36m<module>\u001b[0;34m\u001b[0m\n\u001b[0;32m----> 1\u001b[0;31m \u001b[0mpath_to_product\u001b[0m \u001b[0;34m=\u001b[0m \u001b[0mglob\u001b[0m\u001b[0;34m.\u001b[0m\u001b[0mglob\u001b[0m\u001b[0;34m(\u001b[0m\u001b[0;34m\"data/S2?_MSIL1C*.SAFE\"\u001b[0m\u001b[0;34m)\u001b[0m\u001b[0;34m[\u001b[0m\u001b[0;36m0\u001b[0m\u001b[0;34m]\u001b[0m\u001b[0;34m\u001b[0m\u001b[0;34m\u001b[0m\u001b[0m\n\u001b[0m\u001b[1;32m      2\u001b[0m \u001b[0;34m\u001b[0m\u001b[0m\n\u001b[1;32m      3\u001b[0m \u001b[0;31m# Groups definition\u001b[0m\u001b[0;34m\u001b[0m\u001b[0;34m\u001b[0m\u001b[0m\n\u001b[1;32m      4\u001b[0m \u001b[0mgroups\u001b[0m \u001b[0;34m=\u001b[0m \u001b[0;34m{\u001b[0m\u001b[0;34m}\u001b[0m\u001b[0;34m\u001b[0m\u001b[0;34m\u001b[0m\u001b[0m\n\u001b[1;32m      5\u001b[0m \u001b[0mgroups\u001b[0m\u001b[0;34m[\u001b[0m\u001b[0;34m'coordinates'\u001b[0m\u001b[0;34m]\u001b[0m \u001b[0;34m=\u001b[0m \u001b[0mget_coord_ds\u001b[0m\u001b[0;34m(\u001b[0m\u001b[0mpath_to_product\u001b[0m\u001b[0;34m,\u001b[0m \u001b[0;34m[\u001b[0m\u001b[0;34m\"GRANULE/*/IMG_DATA/*_%s.jp2\"\u001b[0m \u001b[0;34m%\u001b[0m \u001b[0mr\u001b[0m \u001b[0;32mfor\u001b[0m \u001b[0mr\u001b[0m \u001b[0;32min\u001b[0m \u001b[0;34m[\u001b[0m\u001b[0;34m'B02'\u001b[0m\u001b[0;34m,\u001b[0m\u001b[0;34m'B05'\u001b[0m\u001b[0;34m,\u001b[0m\u001b[0;34m'B01'\u001b[0m\u001b[0;34m]\u001b[0m\u001b[0;34m]\u001b[0m\u001b[0;34m,\u001b[0m \u001b[0;34m[\u001b[0m\u001b[0;34m'10m'\u001b[0m\u001b[0;34m,\u001b[0m \u001b[0;34m'20m'\u001b[0m\u001b[0;34m,\u001b[0m \u001b[0;34m'60m'\u001b[0m\u001b[0;34m]\u001b[0m\u001b[0;34m)\u001b[0m  \u001b[0;31m# extensional coordinates, metric and geographic\u001b[0m\u001b[0;34m\u001b[0m\u001b[0;34m\u001b[0m\u001b[0m\n",
      "\u001b[0;31mIndexError\u001b[0m: list index out of range"
     ]
    }
   ],
   "source": [
    "path_to_product = glob.glob(\"data/S2?_MSIL1C*.SAFE\")[0]\n",
    "\n",
    "# Groups definition\n",
    "groups = {}\n",
    "groups['coordinates'] = get_coord_ds(path_to_product, [\"GRANULE/*/IMG_DATA/*_%s.jp2\" % r for r in ['B02','B05','B01']], ['10m', '20m', '60m'])  # extensional coordinates, metric and geographic\n",
    "groups['tiepoints'] = get_tiepoints_ds(path_to_product, \"GRANULE/*/MTD_TL.xml\")\n",
    "#groups['crs'] = get_crs_ds(path_to_product, [\"\"])  # utm zone, geographic footprint, metric corners, metric resolutions, parameters to feed proj\n",
    "groups['measurements_10m'] = get_jp2_ds(path_to_product,[\"GRANULE/*/IMG_DATA/*_%s.jp2\" % r for r in ['B02','B03','B04','B08']], '.*_(...).jp2', '10m')\n",
    "groups['measurements_20m'] = get_jp2_ds(path_to_product,[\"GRANULE/*/IMG_DATA/*_%s.jp2\" % r for r in ['B05','B06','B07','B8A','B11','B12']], '.*_(...).jp2', '20m')\n",
    "groups['measurements_60m'] = get_jp2_ds(path_to_product,[\"GRANULE/*/IMG_DATA/*_%s.jp2\" % r for r in ['B01','B09','B10']], '.*_(...).jp2', '60m')\n",
    "groups['quicklook_tci'] = get_jp2_ds(path_to_product,[\"GRANULE/*/IMG_DATA/*_%s.jp2\" % r for r in ['TCI']], '.*_(...).jp2', '10m')\n",
    "groups['geometry'] = get_angles_ds(path_to_product,\"GRANULE/*/MTD_TL.xml\")  # angles on tiepoint raster\n",
    "#groups['instrument'] = get_xml_ds(path_to_product,[\"MTD_MSIL1C.xml\"])  # band characteristics, gains\n",
    "\n",
    "#groups['meteo'] = get_ds(path_to_product,[\"tie_meteo\"])\n",
    "\n",
    "# Create a new EOProduct instance\n",
    "product_name = os.path.basename(\"S2_MSIL1C\")\n",
    "product = EOProductBuilder(\"S2_MSIL1C\")\n",
    "# do the same work as before \n",
    "product.metadatas = [\"MTD_MSIL1C.xml\"]\n",
    "\n",
    "# ==================== Product groups setting ========================\n",
    "\n",
    "for group_name, ds in groups.items():\n",
    "    group = EOGroupBuilder(group_name)\n",
    "    group.attrs[\"description\"] = f\"{group_name} Data Group\"\n",
    "    group.dims = ds.dims\n",
    "\n",
    "    for v, var in ds.variables.items():\n",
    "        variable = EOVariableBuilder(v, default_attrs = False)\n",
    "        variable.dtype = var.dtype\n",
    "        variable.dimensions = var.dims\n",
    "        variable.attrs = var.attrs\n",
    "        group.variables.append(variable)\n",
    "\n",
    "    product.groups.append(group)\n",
    "\n",
    "product.attrs['metadata_files'] = '[xfdumanfist.xml]'\n",
    "print(\"inputs read\")"
   ]
  },
  {
   "cell_type": "code",
   "execution_count": 6,
   "id": "dd9be474",
   "metadata": {},
   "outputs": [
    {
     "data": {
      "text/html": [
       "\n",
       "        <iframe\n",
       "            width=\"1000\"\n",
       "            height=\"600\"\n",
       "            src=\"tmp.html\"\n",
       "            frameborder=\"0\"\n",
       "            allowfullscreen\n",
       "            \n",
       "        ></iframe>\n",
       "        "
      ],
      "text/plain": [
       "<IPython.lib.display.IFrame at 0x7ffb2d1a03a0>"
      ]
     },
     "execution_count": 6,
     "metadata": {},
     "output_type": "execute_result"
    }
   ],
   "source": [
    "product.compute()"
   ]
  },
  {
   "cell_type": "code",
   "execution_count": null,
   "id": "a5fe7bb3-cd89-4647-8a88-347ae9bdaca4",
   "metadata": {},
   "outputs": [],
   "source": []
  }
 ],
 "metadata": {
  "celltoolbar": "Tags",
  "kernelspec": {
   "display_name": "Python 3 (ipykernel)",
   "language": "python",
   "name": "python3"
  },
  "language_info": {
   "codemirror_mode": {
    "name": "ipython",
    "version": 3
   },
   "file_extension": ".py",
   "mimetype": "text/x-python",
   "name": "python",
   "nbconvert_exporter": "python",
   "pygments_lexer": "ipython3",
   "version": "3.9.9"
  }
 },
 "nbformat": 4,
 "nbformat_minor": 5
}
