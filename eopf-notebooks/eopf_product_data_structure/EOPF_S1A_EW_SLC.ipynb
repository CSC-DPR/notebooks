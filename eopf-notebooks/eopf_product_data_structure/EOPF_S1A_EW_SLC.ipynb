{
 "cells": [
  {
   "cell_type": "markdown",
   "id": "38abfdd3",
   "metadata": {},
   "source": [
    "# EOPF S1 MSI L1 Product Data Structure Proposal\n"
   ]
  },
  {
   "cell_type": "code",
   "execution_count": 81,
   "id": "68a42b17",
   "metadata": {},
   "outputs": [],
   "source": [
    "from IPython.display import IFrame\n",
    "from utils import display\n",
    "from EOProductDataStructure import EOProductBuilder, EOVariableBuilder, EOGroupBuilder"
   ]
  },
  {
   "cell_type": "markdown",
   "id": "2485ecf0",
   "metadata": {},
   "source": [
    "# 1. Read S1 MSI Product"
   ]
  },
  {
   "cell_type": "code",
   "execution_count": 131,
   "id": "9d2dc9ba",
   "metadata": {},
   "outputs": [
    {
     "data": {
      "text/html": [
       "\n",
       "        <iframe\n",
       "            width=\"300\"\n",
       "            height=\"450\"\n",
       "            src=\"tmp.html\"\n",
       "            frameborder=\"0\"\n",
       "            allowfullscreen\n",
       "            \n",
       "        ></iframe>\n",
       "        "
      ],
      "text/plain": [
       "<IPython.lib.display.IFrame at 0x7f6daa3d7340>"
      ]
     },
     "execution_count": 131,
     "metadata": {},
     "output_type": "execute_result"
    }
   ],
   "source": [
    "path_product=\"data/ew_slc.yaml\"\n",
    "import yaml\n",
    "\n",
    "product = None\n",
    "\n",
    "with open(path_product, \"r\") as stream:\n",
    "    try:\n",
    "        product = yaml.safe_load(stream)['product']\n",
    "    except yaml.YAMLError as exc:\n",
    "        print(exc)\n",
    "        \n",
    "ex_slc = EOProductBuilder(\"S1A_EW_SLC__\", coords=EOGroupBuilder('coords'))\n",
    "\n",
    "for key, values  in product.items():\n",
    "    \n",
    "    if key == \"attributes\":\n",
    "        ex_slc.attrs = values\n",
    "    else:\n",
    "        group  = EOGroupBuilder(key)\n",
    "        variables = values['variables']\n",
    "        for var in variables:\n",
    "            variable = EOVariableBuilder(var)\n",
    "        \n",
    "            try:\n",
    "                variable.dtype = variables[var].split('->')[1]\n",
    "            except:\n",
    "                pass\n",
    "            variable.dims = [d.split('->')[0] for d in variables[var].replace('F(','').replace(')','').split(',')]\n",
    "            group.variables.append(variable)\n",
    "            for d in variable.dims:\n",
    "                if d not in group.dims:\n",
    "                    group.dims.append(d)\n",
    "            \n",
    "        ex_slc.groups.append(group)\n",
    "\n",
    "        \n",
    "display(ex_slc.compute())\n",
    "    \n",
    "    \n",
    "    "
   ]
  }
 ],
 "metadata": {
  "celltoolbar": "Tags",
  "kernelspec": {
   "display_name": "Python 3 (ipykernel)",
   "language": "python",
   "name": "python3"
  },
  "language_info": {
   "codemirror_mode": {
    "name": "ipython",
    "version": 3
   },
   "file_extension": ".py",
   "mimetype": "text/x-python",
   "name": "python",
   "nbconvert_exporter": "python",
   "pygments_lexer": "ipython3",
   "version": "3.9.9"
  }
 },
 "nbformat": 4,
 "nbformat_minor": 5
}
