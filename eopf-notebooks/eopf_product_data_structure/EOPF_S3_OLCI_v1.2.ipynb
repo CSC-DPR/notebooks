{
 "cells": [
  {
   "cell_type": "markdown",
   "id": "38abfdd3",
   "metadata": {},
   "source": [
    "# EOPF S3 OLCI L1 Product Data Structure Proposal\n"
   ]
  },
  {
   "cell_type": "code",
   "execution_count": 1,
   "id": "68a42b17",
   "metadata": {},
   "outputs": [],
   "source": [
    "import os\n",
    "import xarray as xr\n",
    "import glob\n",
    "from utils import display, get_ds_variables as get_ds\n",
    "from EOProductDataStructure import EOProductBuilder, EOVariableBuilder, EOGroupBuilder\n"
   ]
  },
  {
   "cell_type": "code",
   "execution_count": 2,
   "id": "d96adef0",
   "metadata": {},
   "outputs": [],
   "source": [
    "path_to_product = glob.glob(\"data/S3A_OL_1*.SEN3\")[0]\n",
    "\n",
    "# Groups definition\n",
    "groups = {}\n",
    "groups['coordinates'] = get_ds(path_to_product, [\"time_coordinates\",\"geo_coordinates\"])\n",
    "groups['tiepoints'] = get_ds(path_to_product, [\"tie_geo_coordinates\"])\n",
    "groups['measurements'] = get_ds(path_to_product,[\"Oa%02d_radiance\" %r for r in range(21)]+[\"qualityFlags\"])\n",
    "groups['geometry'] = get_ds(path_to_product,[\"tie_geometries\"])\n",
    "groups['meteo'] = get_ds(path_to_product,[\"tie_meteo\"])\n",
    "groups['instrument'] = get_ds(path_to_product,[\"instrument_data\"])\n",
    "groups['orphans'] = get_ds(path_to_product,[\"removed_pixels\"])\n",
    "\n",
    "# Create a new EOProduct instance\n",
    "product_name = os.path.basename(\"S3_OLCI_L1\")\n",
    "product = EOProductBuilder(\"S3_OLCI_L1\", coords=EOGroupBuilder('coordinates'))\n",
    "# do the same work as before \n",
    "product.metadatas = [\"xfdumanifest.xml\"]\n",
    "\n",
    "# global attributes\n",
    "#get them from a netcdf file \n",
    "ds = xr.open_dataset(path_to_product + \"/Oa01_radiance.nc\",decode_times=False,mask_and_scale=False)\n",
    "product.attrs = {att: f'{value[:50]} ...' if isinstance(value, str) else value for att, value in ds.attrs.items()}\n",
    "    \n",
    "# ==================== Product groups setting ========================\n",
    "\n",
    "for group_name, ds in groups.items():\n",
    "    group = EOGroupBuilder(group_name)\n",
    "    group.attrs['description'] = f\"{group_name} Data Group\"\n",
    "    group.dims = ds.dims\n",
    "\n",
    "    for v in ds.variables:\n",
    "        variable = EOVariableBuilder(v, default_attrs = False)\n",
    "        var = ds.get(v)\n",
    "        variable.dtype = var.dtype\n",
    "        variable.dims = var.dims\n",
    "        variable.attrs = var.attrs\n",
    "        group.variables.append(variable)\n",
    "\n",
    "    product.groups.append(group)\n",
    "\n",
    "product.attrs['metadata_files'] = '[xfdumanfist.xml]'"
   ]
  },
  {
   "cell_type": "code",
   "execution_count": 3,
   "id": "dd9be474",
   "metadata": {},
   "outputs": [
    {
     "data": {
      "text/html": [
       "\n",
       "        <iframe\n",
       "            width=\"300\"\n",
       "            height=\"450\"\n",
       "            src=\"tmp.html\"\n",
       "            frameborder=\"0\"\n",
       "            allowfullscreen\n",
       "            \n",
       "        ></iframe>\n",
       "        "
      ],
      "text/plain": [
       "<IPython.lib.display.IFrame at 0x7fd7adfb28b0>"
      ]
     },
     "execution_count": 3,
     "metadata": {},
     "output_type": "execute_result"
    }
   ],
   "source": [
    "display(product.compute())"
   ]
  },
  {
   "cell_type": "code",
   "execution_count": null,
   "id": "2cd9e798",
   "metadata": {},
   "outputs": [],
   "source": []
  }
 ],
 "metadata": {
  "celltoolbar": "Tags",
  "kernelspec": {
   "display_name": "Python 3 (ipykernel)",
   "language": "python",
   "name": "python3"
  },
  "language_info": {
   "codemirror_mode": {
    "name": "ipython",
    "version": 3
   },
   "file_extension": ".py",
   "mimetype": "text/x-python",
   "name": "python",
   "nbconvert_exporter": "python",
   "pygments_lexer": "ipython3",
   "version": "3.9.9"
  }
 },
 "nbformat": 4,
 "nbformat_minor": 5
}
