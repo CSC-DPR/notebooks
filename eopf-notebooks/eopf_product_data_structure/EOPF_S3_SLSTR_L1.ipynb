{
 "cells": [
  {
   "cell_type": "markdown",
   "id": "38abfdd3",
   "metadata": {},
   "source": [
    "# EOPF SLSTR L1 Product Data Structure Proposal\n"
   ]
  },
  {
   "cell_type": "code",
   "execution_count": 1,
   "id": "68a42b17",
   "metadata": {},
   "outputs": [],
   "source": [
    "import os\n",
    "import xarray as xr\n",
    "import glob\n",
    "from utils import get_ds_groups as get_ds\n",
    "from EOProductDataStructure import EOProductBuilder, EOVariableBuilder, EOGroupBuilder\n"
   ]
  },
  {
   "cell_type": "markdown",
   "id": "0216b836",
   "metadata": {},
   "source": [
    "# Display function"
   ]
  },
  {
   "cell_type": "code",
   "execution_count": 2,
   "id": "d96adef0",
   "metadata": {},
   "outputs": [
    {
     "ename": "IndexError",
     "evalue": "list index out of range",
     "output_type": "error",
     "traceback": [
      "\u001b[0;31m---------------------------------------------------------------------------\u001b[0m",
      "\u001b[0;31mIndexError\u001b[0m                                Traceback (most recent call last)",
      "\u001b[0;32m/tmp/ipykernel_24106/313096563.py\u001b[0m in \u001b[0;36m<module>\u001b[0;34m\u001b[0m\n\u001b[0;32m----> 1\u001b[0;31m \u001b[0mpath_to_product\u001b[0m \u001b[0;34m=\u001b[0m \u001b[0mglob\u001b[0m\u001b[0;34m.\u001b[0m\u001b[0mglob\u001b[0m\u001b[0;34m(\u001b[0m\u001b[0;34m\"data/S3A_SL_1*.SEN3\"\u001b[0m\u001b[0;34m)\u001b[0m\u001b[0;34m[\u001b[0m\u001b[0;36m0\u001b[0m\u001b[0;34m]\u001b[0m\u001b[0;34m\u001b[0m\u001b[0;34m\u001b[0m\u001b[0m\n\u001b[0m\u001b[1;32m      2\u001b[0m \u001b[0mpath_to_product\u001b[0m\u001b[0;34m\u001b[0m\u001b[0;34m\u001b[0m\u001b[0m\n\u001b[1;32m      3\u001b[0m \u001b[0;31m# Groups definition\u001b[0m\u001b[0;34m\u001b[0m\u001b[0;34m\u001b[0m\u001b[0m\n\u001b[1;32m      4\u001b[0m \u001b[0mgroups\u001b[0m \u001b[0;34m=\u001b[0m \u001b[0;34m{\u001b[0m\u001b[0;34m}\u001b[0m\u001b[0;34m\u001b[0m\u001b[0;34m\u001b[0m\u001b[0m\n\u001b[1;32m      5\u001b[0m \u001b[0;34m\u001b[0m\u001b[0m\n",
      "\u001b[0;31mIndexError\u001b[0m: list index out of range"
     ]
    }
   ],
   "source": [
    "path_to_product = glob.glob(\"data/S3A_SL_1*.SEN3\")[0]\n",
    "path_to_product\n",
    "# Groups definition\n",
    "groups = {}\n",
    "\n",
    "#groups['coordinates'] = get_ds(path_to_product,[\"cartesian_\"] + [\"geodetic_\",\"time_\"])\n",
    "groups['an'] = get_ds(path_to_product, file_pattern=\"*_an\")\n",
    "groups['bn'] = get_ds(path_to_product, file_pattern=\"*_bn\")\n",
    "groups['cn'] = get_ds(path_to_product, file_pattern=\"*_cn\")\n",
    "groups['in'] = get_ds(path_to_product, file_pattern=\"*_in\")\n",
    "\n",
    "groups['ao'] = get_ds(path_to_product, file_pattern=\"*_ao\")\n",
    "groups['bo'] = get_ds(path_to_product, file_pattern=\"*_bo\")\n",
    "groups['co'] = get_ds(path_to_product, file_pattern=\"*_co\")\n",
    "groups['io'] = get_ds(path_to_product, file_pattern=\"*_io\")\n",
    "#product.attrs['metadata_files'] = '[xfdumanfist.json]'"
   ]
  },
  {
   "cell_type": "code",
   "execution_count": 94,
   "id": "dd9be474",
   "metadata": {},
   "outputs": [
    {
     "data": {
      "text/plain": [
       "'data/S3A_SL_1_RBT____20200101T212911_20200101T213211_20200103T011904_0179_053_186_0540_LN2_O_NT_003.SEN3'"
      ]
     },
     "execution_count": 94,
     "metadata": {},
     "output_type": "execute_result"
    }
   ],
   "source": [
    "path_to_product\n"
   ]
  },
  {
   "cell_type": "markdown",
   "id": "cb5fb27d",
   "metadata": {},
   "source": [
    "# 1. Do nothing : Each netcdf file => group"
   ]
  },
  {
   "cell_type": "code",
   "execution_count": 95,
   "id": "a66615fb",
   "metadata": {},
   "outputs": [
    {
     "data": {
      "text/html": [
       "\n",
       "        <iframe\n",
       "            width=\"1000\"\n",
       "            height=\"600\"\n",
       "            src=\"tmp.html\"\n",
       "            frameborder=\"0\"\n",
       "            allowfullscreen\n",
       "            \n",
       "        ></iframe>\n",
       "        "
      ],
      "text/plain": [
       "<IPython.lib.display.IFrame at 0x7f3d1a1de190>"
      ]
     },
     "execution_count": 95,
     "metadata": {},
     "output_type": "execute_result"
    }
   ],
   "source": [
    "\n",
    "# Create a new EOProduct instance\n",
    "product_name = os.path.basename(\"S3A_SL_1_RBT____\")\n",
    "product = EOProductBuilder(\"S3A_SL_1_RBT____\", EOGroupBuilder('coordinates'))\n",
    "# do the same work as before \n",
    "product.metadata = [\"xfdumanifest.xml\"]\n",
    "\n",
    "\n",
    "# global attributes\n",
    "#get them from a netcdf file \n",
    "ds = xr.open_dataset(path_to_product + \"/cartesian_an.nc\",decode_times=False,mask_and_scale=False)\n",
    "product.attrs = {att: f'{value[:40]} ...' if isinstance(value, str) else value for att, value in ds.attrs.items()}\n",
    "\n",
    "for name, subgroup in groups.items():\n",
    "\n",
    "    # ==================== Product groups setting ========================\n",
    "    \n",
    "    for subgroup_name, ds in subgroup.items():\n",
    "        group = EOGroupBuilder(subgroup_name)\n",
    "        group.attrs['description'] = f'{subgroup_name} Data Group'\n",
    "        group.dims = ds.dims\n",
    "\n",
    "        for v in ds.variables:\n",
    "            variable = EOVariableBuilder(v, default_attrs = False)\n",
    "            var = ds.get(v)\n",
    "            variable.dtype = var.dtype\n",
    "            variable.dims = var.dims\n",
    "            variable.attrs = var.attrs\n",
    "            group.variables.append(variable)\n",
    "\n",
    "        product.groups.append(group)\n",
    "\n",
    "product.attrs['metadata_files'] = '[xfdumanfist.xml]'\n",
    "\n",
    "product.compute()"
   ]
  },
  {
   "cell_type": "markdown",
   "id": "898254b5",
   "metadata": {},
   "source": [
    "# 2. Grouping by strips and views"
   ]
  },
  {
   "cell_type": "code",
   "execution_count": 96,
   "id": "a026d25e",
   "metadata": {},
   "outputs": [],
   "source": [
    "\n",
    "# Create a new EOProduct instance\n",
    "product_name = os.path.basename(\"S3A_SL_1_RBT____\")\n",
    "product = EOProductBuilder(\"S3A_SL_1_RBT____\", coords=EOGroupBuilder('coords'))\n",
    "# do the same work as before \n",
    "product.metadatas = [\"xfdumanifest.xml\"]\n",
    "\n",
    "\n",
    "# global attributes\n",
    "#get them from a netcdf file \n",
    "ds = xr.open_dataset(path_to_product + \"/cartesian_an.nc\",decode_times=False,mask_and_scale=False)\n",
    "product.attrs = {att: f'{value[:40]} ...' if isinstance(value, str) else value for att, value in ds.attrs.items()}\n",
    "\n",
    "for name, sub_group in groups.items():\n",
    "\n",
    "    # ==================== Product groups setting ========================\n",
    "    global_group = EOGroupBuilder(name)\n",
    "    \n",
    "    for subgroup_name, ds in sub_group.items():\n",
    "        group = EOGroupBuilder(subgroup_name)\n",
    "\n",
    "        group.attrs['description'] = f\"{subgroup_name} Data Group\"\n",
    "        group.dims = ds.dims\n",
    "        global_group.groups.append(group)\n",
    "\n",
    "        for v in ds.variables:\n",
    "            variable = EOVariableBuilder(v, default_attrs = False)\n",
    "            var = ds.get(v)\n",
    "            variable.dtype = var.dtype\n",
    "            variable.dims = var.dims\n",
    "            variable.attrs = var.dims\n",
    "\n",
    "            group.variables.append(variable)\n",
    "\n",
    "    product.groups.append(global_group)\n",
    "\n",
    "product.attrs['metadata_files'] = '[xfdumanfist.xml]'"
   ]
  },
  {
   "cell_type": "code",
   "execution_count": 97,
   "id": "d3aa315c",
   "metadata": {},
   "outputs": [
    {
     "data": {
      "text/html": [
       "\n",
       "        <iframe\n",
       "            width=\"1000\"\n",
       "            height=\"600\"\n",
       "            src=\"tmp.html\"\n",
       "            frameborder=\"0\"\n",
       "            allowfullscreen\n",
       "            \n",
       "        ></iframe>\n",
       "        "
      ],
      "text/plain": [
       "<IPython.lib.display.IFrame at 0x7f3d1a233ca0>"
      ]
     },
     "execution_count": 97,
     "metadata": {},
     "output_type": "execute_result"
    }
   ],
   "source": [
    "display(product.compute())"
   ]
  },
  {
   "cell_type": "code",
   "execution_count": 98,
   "id": "50476691",
   "metadata": {},
   "outputs": [
    {
     "data": {
      "text/html": [
       "\n",
       "        <iframe\n",
       "            width=\"1000\"\n",
       "            height=\"600\"\n",
       "            src=\"tmp.html\"\n",
       "            frameborder=\"0\"\n",
       "            allowfullscreen\n",
       "            \n",
       "        ></iframe>\n",
       "        "
      ],
      "text/plain": [
       "<IPython.lib.display.IFrame at 0x7f3d1b358f70>"
      ]
     },
     "execution_count": 98,
     "metadata": {},
     "output_type": "execute_result"
    }
   ],
   "source": [
    "\n",
    "# Create a new EOProduct instance\n",
    "product_name = os.path.basename(\"S3A_SL_1_RBT____\")\n",
    "product = EOProductBuilder(\"S3A_SL_1_RBT____\")\n",
    "# do the same work as before \n",
    "product.metadatas = [\"xfdumanifest.xml\"]\n",
    "\n",
    "# global attributes\n",
    "#get them from a netcdf file \n",
    "ds = xr.open_dataset(path_to_product + \"/cartesian_an.nc\",decode_times=False,mask_and_scale=False)\n",
    "product.attrs = {att: f'{value[:40]} ...' if isinstance(value, str) else value for att, value in ds.attrs.items()}            \n",
    "\n",
    "for name, sub_group in groups.items():\n",
    "\n",
    "    # ==================== Product groups setting ========================\n",
    "    global_group = EOGroupBuilder(name)\n",
    "    \n",
    "    coordinates = EOGroupBuilder(\"coordinates\")\n",
    "    radiances = EOGroupBuilder(\"radiances\")\n",
    "    bts = EOGroupBuilder(\"bts\")\n",
    "    qualities = EOGroupBuilder(\"qualities\")\n",
    "    flags = EOGroupBuilder(\"flags\")\n",
    "    indices = EOGroupBuilder(\"indices\")\n",
    "    \n",
    "    sub_groups = {}\n",
    "    \n",
    "    for subgroup_name, ds in groups[name]:\n",
    "        subgroup_name = subgroup_name.lower()\n",
    "        \n",
    "        if \"radiance\" in subgroup_name:\n",
    "            group = radiances\n",
    "            sub_groups[\"radiances\"] = group\n",
    "\n",
    "        elif \"bt\" in subgroup_name:\n",
    "            group = bts\n",
    "            sub_groups[\"bts\"] = group\n",
    "        elif \"flags\" in subgroup_name:\n",
    "            group = flags\n",
    "            sub_groups[\"flags\"] = group\n",
    "        elif \"quality\" in subgroup_name:\n",
    "            group = qualities\n",
    "            sub_groups[\"qualities\"] = group\n",
    "        elif \"indice\" in subgroup_name:\n",
    "            group = indices\n",
    "            sub_groups[\"indices\"] = group\n",
    "        else:\n",
    "            group = coordinates\n",
    "            global_group.coords = group\n",
    "        \n",
    "        #group = EOGroupBuilder(subgroup_name)\n",
    "\n",
    "        #group.attrs[\"description\"] = f\"{subgroup_name} Data Group\"\n",
    "        \n",
    "        #global_group.groups.append(group)\n",
    "        \n",
    "        for d in ds.dims:\n",
    "            if d not in group.dims:\n",
    "                group.dims.append(d)\n",
    "\n",
    "\n",
    "        for v in ds.variables:\n",
    "            variable = EOVariableBuilder(v,default_attrs = False)\n",
    "            var = ds.get(v)\n",
    "            variable.dtype = var.dtype\n",
    "            variable.dims = var.dims\n",
    "            variable.attrs = var.attrs\n",
    "            group.variables.append(variable)\n",
    "\n",
    "    for gp in sub_groups:\n",
    "        global_group.groups.append(sub_groups[gp])\n",
    "        \n",
    "    product.groups.append(global_group)\n",
    "\n",
    "product.attrs['metadata_files'] = '[xfdumanfist.xml]'\n",
    "\n",
    "display(product.compute())"
   ]
  },
  {
   "cell_type": "code",
   "execution_count": 99,
   "id": "a3730cb0",
   "metadata": {},
   "outputs": [],
   "source": [
    "\n",
    "# Create a new EOProduct instance\n",
    "product_name = os.path.basename(\"S3A_SL_1_RBT____\")\n",
    "product = EOProductBuilder(\"S3A_SL_1_RBT____\")\n",
    "# do the same work as before \n",
    "product.metadatas = [\"xfdumanifest.xml\"]\n",
    "\n",
    "\n",
    "# global attributes\n",
    "#get them from a netcdf file \n",
    "ds = xr.open_dataset(path_to_product + \"/cartesian_an.nc\",decode_times=False,mask_and_scale=False)\n",
    "product.attrs = {att: f'{value[:40]} ...' if isinstance(value, str) else value for att, value in ds.attrs.items()}            \n",
    "\n",
    "for name, sub_group in groups.items():\n",
    "\n",
    "    # ==================== Product groups setting ========================\n",
    "    global_group = EOGroupBuilder(name)\n",
    "    \n",
    "    for subgroup_name, ds in sub_group.items():\n",
    "        \n",
    "        for d in ds.dims:\n",
    "            if d not in global_group.dims:\n",
    "                global_group.dims.append(d)\n",
    "\n",
    "        for v in ds.variables:\n",
    "            variable = EOVariableBuilder(v, default_attrs = False)\n",
    "            var = ds.get(v)\n",
    "            variable.dtype = var.dtype\n",
    "            variable.dims = var.dims\n",
    "            variable.attrs = var.attrs\n",
    "\n",
    "            global_group.variables.append(variable)\n",
    "\n",
    "    product.groups.append(global_group)\n",
    "\n",
    "product.attrs['metadata_files'] = '[xfdumanfist.xml]'"
   ]
  },
  {
   "cell_type": "code",
   "execution_count": 100,
   "id": "01e2bc9a",
   "metadata": {},
   "outputs": [
    {
     "data": {
      "text/html": [
       "\n",
       "        <iframe\n",
       "            width=\"1000\"\n",
       "            height=\"600\"\n",
       "            src=\"tmp.html\"\n",
       "            frameborder=\"0\"\n",
       "            allowfullscreen\n",
       "            \n",
       "        ></iframe>\n",
       "        "
      ],
      "text/plain": [
       "<IPython.lib.display.IFrame at 0x7f3d1b1cadf0>"
      ]
     },
     "execution_count": 100,
     "metadata": {},
     "output_type": "execute_result"
    }
   ],
   "source": [
    "display(product.compute())"
   ]
  }
 ],
 "metadata": {
  "celltoolbar": "Tags",
  "kernelspec": {
   "display_name": "Python 3 (ipykernel)",
   "language": "python",
   "name": "python3"
  },
  "language_info": {
   "codemirror_mode": {
    "name": "ipython",
    "version": 3
   },
   "file_extension": ".py",
   "mimetype": "text/x-python",
   "name": "python",
   "nbconvert_exporter": "python",
   "pygments_lexer": "ipython3",
   "version": "3.9.9"
  }
 },
 "nbformat": 4,
 "nbformat_minor": 5
}
